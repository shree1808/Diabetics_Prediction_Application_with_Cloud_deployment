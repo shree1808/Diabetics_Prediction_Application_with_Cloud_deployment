{
 "cells": [
  {
   "cell_type": "code",
   "execution_count": 15,
   "metadata": {},
   "outputs": [],
   "source": [
    "from sklearn.model_selection import train_test_split, GridSearchCV\n",
    "import pandas as pd\n",
    "import numpy as np\n",
    "import pickle\n",
    "from sklearn.compose import ColumnTransformer\n",
    "from sklearn.pipeline import Pipeline\n",
    "from sklearn.preprocessing import StandardScaler, LabelEncoder\n",
    "from sklearn.linear_model import LogisticRegression\n",
    "from sklearn.metrics import accuracy_score, classification_report\n",
    "df = pd.read_csv('C:\\\\Users\\\\Shree123\\\\ML_end2end_EC2_AWS\\\\notebook\\\\data\\\\Healthcare-Diabetes.csv')"
   ]
  },
  {
   "cell_type": "code",
   "execution_count": 16,
   "metadata": {},
   "outputs": [],
   "source": [
    "X = df.drop(columns=['Outcome'])\n",
    "X.drop(columns = ['Id'], inplace = True)\n",
    "y = df['Outcome']\n",
    "\n",
    "from sklearn.model_selection import train_test_split\n",
    "X_train,X_test,y_train,y_test = train_test_split(X,y,test_size=0.2,random_state=2)"
   ]
  },
  {
   "cell_type": "code",
   "execution_count": 17,
   "metadata": {},
   "outputs": [
    {
     "name": "stdout",
     "output_type": "stream",
     "text": [
      "Best Parameters: {'C': 0.1, 'penalty': 'l2'}\n",
      "Tuned Logistic Regression Accuracy: 0.79\n",
      "Classification Report:\n",
      "               precision    recall  f1-score   support\n",
      "\n",
      "           0       0.81      0.90      0.85       370\n",
      "           1       0.74      0.57      0.65       184\n",
      "\n",
      "    accuracy                           0.79       554\n",
      "   macro avg       0.78      0.74      0.75       554\n",
      "weighted avg       0.79      0.79      0.78       554\n",
      "\n"
     ]
    }
   ],
   "source": [
    "\n",
    "label_encoder = LabelEncoder()\n",
    "y_train_encoded = label_encoder.fit_transform(y_train)\n",
    "y_test_encoded = label_encoder.transform(y_test)\n",
    "\n",
    "# Standard scaling for numeric features\n",
    "scaler = StandardScaler()\n",
    "X_train_scaled = scaler.fit_transform(X_train)\n",
    "X_test_scaled = scaler.transform(X_test)\n",
    "\n",
    "# Hyperparameter tuning using GridSearchCV\n",
    "param_grid = {\n",
    "    'penalty': ['l2'],\n",
    "    'C': [0.001, 0.01, 0.1, 1, 10, 100]\n",
    "}\n",
    "\n",
    "logistic_regression_model = LogisticRegression()\n",
    "\n",
    "grid_search = GridSearchCV(logistic_regression_model, param_grid, cv=5, scoring='accuracy')\n",
    "grid_search.fit(X_train_scaled, y_train_encoded)\n",
    "\n",
    "best_params = grid_search.best_params_\n",
    "best_estimator = grid_search.best_estimator_\n",
    "\n",
    "print(f'Best Parameters: {best_params}')\n",
    "\n",
    "# Use the best estimator for prediction on the test data\n",
    "y_pred_tuned = best_estimator.predict(X_test_scaled)\n",
    "accuracy_tuned = accuracy_score(y_test_encoded, y_pred_tuned)\n",
    "print(f'Tuned Logistic Regression Accuracy: {accuracy_tuned:.2f}')\n",
    "\n",
    "report_tuned = classification_report(y_test_encoded, y_pred_tuned)\n",
    "print(\"Classification Report:\\n\", report_tuned)\n",
    "\n"
   ]
  },
  {
   "cell_type": "code",
   "execution_count": 18,
   "metadata": {},
   "outputs": [],
   "source": [
    "# Export only the tuned Logistic Regression model as a pkl file\n",
    "with open('tuned_model.pkl', 'wb') as file:\n",
    "    pickle.dump(best_estimator, file)"
   ]
  },
  {
   "cell_type": "code",
   "execution_count": 20,
   "metadata": {},
   "outputs": [
    {
     "name": "stdout",
     "output_type": "stream",
     "text": [
      "6,148,72,35,0,33.6,0.627,50\n"
     ]
    }
   ],
   "source": [
    "print('6,148,72,35,0,33.6,0.627,50') # Sample_Input"
   ]
  },
  {
   "cell_type": "code",
   "execution_count": null,
   "metadata": {},
   "outputs": [],
   "source": []
  }
 ],
 "metadata": {
  "kernelspec": {
   "display_name": "Python 3",
   "language": "python",
   "name": "python3"
  },
  "language_info": {
   "codemirror_mode": {
    "name": "ipython",
    "version": 3
   },
   "file_extension": ".py",
   "mimetype": "text/x-python",
   "name": "python",
   "nbconvert_exporter": "python",
   "pygments_lexer": "ipython3",
   "version": "3.8.0"
  }
 },
 "nbformat": 4,
 "nbformat_minor": 2
}
